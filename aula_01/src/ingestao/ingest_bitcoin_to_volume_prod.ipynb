{
 "cells": [
  {
   "cell_type": "code",
   "execution_count": 0,
   "metadata": {
    "application/vnd.databricks.v1+cell": {
     "cellMetadata": {
      "byteLimit": 2048000,
      "implicitDf": true,
      "rowLimit": 10000
     },
     "inputWidgets": {},
     "nuid": "db883235-52be-426b-891c-b5202b2649f3",
     "showTitle": false,
     "tableResultSettingsMap": {},
     "title": ""
    }
   },
   "outputs": [],
   "source": [
    "%sql\n",
    "CREATE CATALOG IF NOT EXISTS lakehouse;\n",
    "CREATE SCHEMA  IF NOT EXISTS lakehouse.raw;\n",
    "CREATE SCHEMA  IF NOT EXISTS lakehouse.bronze;"
   ]
  },
  {
   "cell_type": "code",
   "execution_count": 0,
   "metadata": {
    "application/vnd.databricks.v1+cell": {
     "cellMetadata": {
      "byteLimit": 2048000,
      "implicitDf": true,
      "rowLimit": 10000
     },
     "inputWidgets": {},
     "nuid": "121e52c6-bc11-4a87-aa98-ef850a319e13",
     "showTitle": false,
     "tableResultSettingsMap": {},
     "title": ""
    }
   },
   "outputs": [],
   "source": [
    "%sql\n",
    "-- Volume para zona raw (arquivos JSON)\n",
    "CREATE VOLUME IF NOT EXISTS lakehouse.raw.raw_coinbase;"
   ]
  },
  {
   "cell_type": "code",
   "execution_count": 0,
   "metadata": {
    "application/vnd.databricks.v1+cell": {
     "cellMetadata": {
      "byteLimit": 2048000,
      "rowLimit": 10000
     },
     "inputWidgets": {},
     "nuid": "b8b7ee72-8e19-46bc-959d-66c906d28530",
     "showTitle": false,
     "tableResultSettingsMap": {},
     "title": ""
    }
   },
   "outputs": [],
   "source": [
    "# Databricks notebook source\n",
    "# COMMAND ----------\n",
    "import requests\n",
    "import pandas as pd\n",
    "from datetime import datetime, UTC  # ou timezone.utc se versão <3.11\n",
    "from pyspark.sql import functions as F\n",
    "from pyspark.sql.types import StructType, StructField, StringType, DoubleType, TimestampType\n",
    "\n",
    "RAW_BASE_PATH = \"/Volumes/lakehouse/raw/raw_coinbase/coinbase/bitcoin_spot\"\n",
    "\n",
    "def get_bitcoin_df() -> pd.DataFrame:\n",
    "    url = \"https://api.coinbase.com/v2/prices/spot?currency=USD\"\n",
    "    response = requests.get(url, timeout=15)\n",
    "    response.raise_for_status()\n",
    "    data = response.json()\n",
    "\n",
    "    preco = float(data[\"data\"][\"amount\"])\n",
    "    ativo = data[\"data\"][\"base\"]\n",
    "    moeda = data[\"data\"][\"currency\"]\n",
    "    horario_coleta = datetime.now(UTC)   # horário UTC correto\n",
    "\n",
    "    return pd.DataFrame([{\n",
    "        \"ativo\": ativo,\n",
    "        \"preco\": preco,\n",
    "        \"moeda\": moeda,\n",
    "        \"horario_coleta\": horario_coleta,\n",
    "    }])\n",
    "\n",
    "# Coleta\n",
    "pdf = get_bitcoin_df()\n",
    "\n",
    "# Schema explícito (opcional, deixa claro os tipos)\n",
    "schema = StructType([\n",
    "    StructField(\"ativo\", StringType(), False),\n",
    "    StructField(\"preco\", DoubleType(), False),\n",
    "    StructField(\"moeda\", StringType(), False),\n",
    "    StructField(\"horario_coleta\", TimestampType(), False),\n",
    "])\n",
    "\n",
    "df = (\n",
    "    spark.createDataFrame(pdf, schema=schema)\n",
    "        .withColumn(\"ingestion_ts_utc\", F.current_timestamp())\n",
    "        .withColumn(\"source_system\", F.lit(\"coinbase\"))\n",
    "        .withColumn(\"source_endpoint\", F.lit(\"https://api.coinbase.com/v2/prices/spot?currency=USD\"))\n",
    "        .withColumn(\"ingestion_date\", F.to_date(F.col(\"ingestion_ts_utc\")))\n",
    ")\n",
    "\n",
    "# Grava os arquivos JSON particionados por data de ingestão\n",
    "(\n",
    "    df.write\n",
    "      .mode(\"append\")\n",
    "      .partitionBy(\"ingestion_date\")\n",
    "      .json(RAW_BASE_PATH)\n",
    ")\n",
    "\n",
    "print(\"✅ JSON salvo em:\", RAW_BASE_PATH)\n"
   ]
  }
 ],
 "metadata": {
  "application/vnd.databricks.v1+notebook": {
   "computePreferences": {
    "hardware": {
     "accelerator": null,
     "gpuPoolId": null,
     "memory": null
    }
   },
   "dashboards": [],
   "environmentMetadata": {
    "base_environment": "",
    "environment_version": "4"
   },
   "inputWidgetPreferences": null,
   "language": "python",
   "notebookMetadata": {
    "mostRecentlyExecutedCommandWithImplicitDF": {
     "commandId": 2747222977238136,
     "dataframes": [
      "_sqldf"
     ]
    },
    "pythonIndentUnit": 4
   },
   "notebookName": "ingest_bitcoin_to_volume_prod",
   "widgets": {}
  },
  "language_info": {
   "name": "python"
  }
 },
 "nbformat": 4,
 "nbformat_minor": 0
}
