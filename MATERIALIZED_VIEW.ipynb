{
 "cells": [
  {
   "cell_type": "code",
   "execution_count": 0,
   "metadata": {
    "application/vnd.databricks.v1+cell": {
     "cellMetadata": {
      "byteLimit": 2048000,
      "rowLimit": 10000
     },
     "inputWidgets": {},
     "nuid": "11a40a7a-ac59-4b62-b5e6-f81e2fe0df58",
     "showTitle": false,
     "tableResultSettingsMap": {},
     "title": ""
    }
   },
   "outputs": [],
   "source": [
    "\n",
    "CREATE VIEW lakehouse.silver.sales_normalized_union\n",
    "AS\n",
    "WITH\n",
    "-- 1) Transações\n",
    "n AS (\n",
    "  SELECT\n",
    "    transaction_id,\n",
    "    data_hora_h                         AS ts_ref_str,    -- string ISO\n",
    "    data_hora_h                         AS data_hora_h,\n",
    "    asset_raw,\n",
    "    symbol_cotacao_norm,\n",
    "    quantidade,\n",
    "    tipo_operacao,\n",
    "    UPPER(TRIM(moeda))                  AS moeda_norm,\n",
    "    cliente_id,\n",
    "    canal,\n",
    "    mercado\n",
    "  FROM lakehouse.silver.sales_normalized\n",
    "),\n",
    "\n",
    "-- 2) Cotações\n",
    "p AS (\n",
    "  SELECT\n",
    "    id                                  AS cotacao_id,\n",
    "    UPPER(TRIM(ativo))                  AS ativo_norm,\n",
    "    UPPER(TRIM(moeda))                  AS moeda_norm,\n",
    "    CAST(preco AS DECIMAL(18,6))        AS preco,\n",
    "    horario_coleta                      AS cotacao_ts_str -- string ISO\n",
    "  FROM lakehouse.silver.cotation_union\n",
    "),\n",
    "\n",
    "-- 3) Conversão para TIMESTAMP (sem try_to_timestamp)\n",
    "n_ts AS (\n",
    "  SELECT\n",
    "    n.*,\n",
    "    COALESCE(\n",
    "      to_timestamp(ts_ref_str,      \"yyyy-MM-dd'T'HH:mm:ss.SSSSSSXXX\"),\n",
    "      to_timestamp(ts_ref_str,      \"yyyy-MM-dd'T'HH:mm:ss.SSSXXX\"),\n",
    "      to_timestamp(\n",
    "        regexp_replace(substr(ts_ref_str,1,19),'T',' '),\n",
    "        \"yyyy-MM-dd HH:mm:ss\"\n",
    "      )\n",
    "    ) AS ts_ref\n",
    "  FROM n\n",
    "),\n",
    "p_ts AS (\n",
    "  SELECT\n",
    "    p.*,\n",
    "    COALESCE(\n",
    "      to_timestamp(cotacao_ts_str,  \"yyyy-MM-dd'T'HH:mm:ss.SSSSSSXXX\"),\n",
    "      to_timestamp(cotacao_ts_str,  \"yyyy-MM-dd'T'HH:mm:ss.SSSXXX\"),\n",
    "      to_timestamp(\n",
    "        regexp_replace(substr(cotacao_ts_str,1,19),'T',' '),\n",
    "        \"yyyy-MM-dd HH:mm:ss\"\n",
    "      )\n",
    "    ) AS cotacao_ts\n",
    "  FROM p\n",
    "),\n",
    "\n",
    "-- 4) Candidatos por proximidade temporal (mesmo ativo e moeda)\n",
    "cand AS (\n",
    "  SELECT\n",
    "    n_ts.*,\n",
    "    p_ts.cotacao_id,\n",
    "    p_ts.cotacao_ts,\n",
    "    p_ts.preco,\n",
    "    ROW_NUMBER() OVER (\n",
    "      PARTITION BY n_ts.transaction_id\n",
    "      ORDER BY ABS(unix_timestamp(n_ts.ts_ref) - unix_timestamp(p_ts.cotacao_ts)) ASC\n",
    "    ) AS rn\n",
    "  FROM n_ts\n",
    "  LEFT JOIN p_ts\n",
    "    ON p_ts.ativo_norm = UPPER(TRIM(n_ts.symbol_cotacao_norm))\n",
    "   AND p_ts.moeda_norm = n_ts.moeda_norm\n",
    "   AND p_ts.cotacao_ts BETWEEN n_ts.ts_ref - INTERVAL 12 HOURS AND n_ts.ts_ref + INTERVAL 12 HOURS\n",
    "  WHERE n_ts.ts_ref IS NOT NULL\n",
    "    AND p_ts.cotacao_ts IS NOT NULL\n",
    ")\n",
    "\n",
    "-- 5) Escolhe a cotação mais próxima e calcula métricas\n",
    "SELECT\n",
    "  transaction_id,\n",
    "  data_hora_h,\n",
    "  ts_ref                                AS transaction_ts,\n",
    "  asset_raw,\n",
    "  symbol_cotacao_norm,\n",
    "  quantidade,\n",
    "  tipo_operacao,\n",
    "  moeda_norm                             AS moeda,\n",
    "  cliente_id,\n",
    "  canal,\n",
    "  mercado,\n",
    "\n",
    "  cotacao_id,\n",
    "  cotacao_ts,\n",
    "  preco                                  AS preco_unitario_usd,\n",
    "  CASE\n",
    "    WHEN UPPER(tipo_operacao) = 'VENDA'  THEN  preco\n",
    "    WHEN UPPER(tipo_operacao) = 'COMPRA' THEN -preco\n",
    "    ELSE NULL\n",
    "  END                                    AS preco_unitario_signed_usd,\n",
    "\n",
    "  CAST(quantidade * preco AS DECIMAL(38,6)) AS notional_abs_usd,\n",
    "  CAST(quantidade * (\n",
    "        CASE WHEN UPPER(tipo_operacao) = 'VENDA' THEN  preco\n",
    "             WHEN UPPER(tipo_operacao) = 'COMPRA' THEN -preco\n",
    "             ELSE NULL END\n",
    "      ) AS DECIMAL(38,6)) AS notional_signed_usd\n",
    "FROM cand\n",
    "WHERE rn = 1;\n"
   ]
  },
  {
   "cell_type": "code",
   "execution_count": 0,
   "metadata": {
    "application/vnd.databricks.v1+cell": {
     "cellMetadata": {
      "byteLimit": 2048000,
      "rowLimit": 10000
     },
     "inputWidgets": {},
     "nuid": "74eb6068-38f2-4b88-b127-b3545e9694c4",
     "showTitle": false,
     "tableResultSettingsMap": {},
     "title": ""
    }
   },
   "outputs": [],
   "source": [
    "SELECT * FROM lakehouse.silver.sales_normalized_union"
   ]
  }
 ],
 "metadata": {
  "application/vnd.databricks.v1+notebook": {
   "computePreferences": {
    "hardware": {
     "accelerator": null,
     "gpuPoolId": null,
     "memory": null
    }
   },
   "dashboards": [],
   "environmentMetadata": {
    "base_environment": "",
    "environment_version": "4"
   },
   "inputWidgetPreferences": null,
   "language": "sql",
   "notebookMetadata": {},
   "notebookName": "MATERIALIZED_VIEW",
   "widgets": {}
  },
  "language_info": {
   "name": "sql"
  }
 },
 "nbformat": 4,
 "nbformat_minor": 0
}
