{
 "cells": [
  {
   "cell_type": "code",
   "execution_count": 0,
   "metadata": {
    "application/vnd.databricks.v1+cell": {
     "cellMetadata": {
      "byteLimit": 2048000,
      "implicitDf": true,
      "rowLimit": 10000
     },
     "inputWidgets": {},
     "nuid": "db883235-52be-426b-891c-b5202b2649f3",
     "showTitle": false,
     "tableResultSettingsMap": {},
     "title": ""
    }
   },
   "outputs": [],
   "source": [
    "%sql\n",
    "CREATE CATALOG IF NOT EXISTS lakehouse;\n",
    "CREATE SCHEMA  IF NOT EXISTS lakehouse.raw;\n",
    "CREATE SCHEMA  IF NOT EXISTS lakehouse.bronze;"
   ]
  },
  {
   "cell_type": "code",
   "execution_count": 0,
   "metadata": {
    "application/vnd.databricks.v1+cell": {
     "cellMetadata": {
      "byteLimit": 2048000,
      "implicitDf": true,
      "rowLimit": 10000
     },
     "inputWidgets": {},
     "nuid": "121e52c6-bc11-4a87-aa98-ef850a319e13",
     "showTitle": false,
     "tableResultSettingsMap": {},
     "title": ""
    }
   },
   "outputs": [],
   "source": [
    "%sql\n",
    "-- Volume para zona raw (arquivos JSON)\n",
    "CREATE VOLUME IF NOT EXISTS lakehouse.raw.raw_coinbase;"
   ]
  },
  {
   "cell_type": "code",
   "execution_count": 0,
   "metadata": {
    "application/vnd.databricks.v1+cell": {
     "cellMetadata": {
      "byteLimit": 2048000,
      "rowLimit": 10000
     },
     "inputWidgets": {},
     "nuid": "b8b7ee72-8e19-46bc-959d-66c906d28530",
     "showTitle": false,
     "tableResultSettingsMap": {},
     "title": ""
    }
   },
   "outputs": [],
   "source": [
    "# Databricks notebook source\n",
    "# COMMAND ----------\n",
    "import requests\n",
    "import pandas as pd\n",
    "from datetime import datetime, UTC  # ou timezone.utc se versão <3.11\n",
    "from pyspark.sql import functions as F\n",
    "from pyspark.sql.types import StructType, StructField, StringType, DoubleType, TimestampType\n",
    "\n",
    "RAW_BASE_PATH = \"/Volumes/lakehouse/raw/raw_coinbase/coinbase/bitcoin_spot\"\n",
    "\n",
    "def get_bitcoin_df() -> pd.DataFrame:\n",
    "    url = \"https://api.coinbase.com/v2/prices/spot?currency=USD\"\n",
    "    response = requests.get(url, timeout=15)\n",
    "    response.raise_for_status()\n",
    "    data = response.json()\n",
    "\n",
    "    preco = float(data[\"data\"][\"amount\"])\n",
    "    ativo = data[\"data\"][\"base\"]\n",
    "    moeda = data[\"data\"][\"currency\"]\n",
    "    horario_coleta = datetime.now(UTC)   # horário UTC correto\n",
    "\n",
    "    return pd.DataFrame([{\n",
    "        \"ativo\": ativo,\n",
    "        \"preco\": preco,\n",
    "        \"moeda\": moeda,\n",
    "        \"horario_coleta\": horario_coleta,\n",
    "    }])\n",
    "\n",
    "# Coleta\n",
    "pdf = get_bitcoin_df()\n",
    "\n",
    "# Schema explícito (opcional, deixa claro os tipos)\n",
    "schema = StructType([\n",
    "    StructField(\"ativo\", StringType(), False),\n",
    "    StructField(\"preco\", DoubleType(), False),\n",
    "    StructField(\"moeda\", StringType(), False),\n",
    "    StructField(\"horario_coleta\", TimestampType(), False),\n",
    "])\n",
    "\n",
    "df = (\n",
    "    spark.createDataFrame(pdf, schema=schema)\n",
    "        .withColumn(\"ingestion_ts_utc\", F.current_timestamp())\n",
    "        .withColumn(\"source_system\", F.lit(\"coinbase\"))\n",
    "        .withColumn(\"source_endpoint\", F.lit(\"https://api.coinbase.com/v2/prices/spot?currency=USD\"))\n",
    "        .withColumn(\"ingestion_date\", F.to_date(F.col(\"ingestion_ts_utc\")))\n",
    ")\n",
    "\n",
    "# Grava os arquivos JSON particionados por data de ingestão\n",
    "(\n",
    "    df.write\n",
    "      .mode(\"append\")\n",
    "      .partitionBy(\"ingestion_date\")\n",
    "      .json(RAW_BASE_PATH)\n",
    ")\n",
    "\n",
    "print(\"✅ JSON salvo em:\", RAW_BASE_PATH)\n"
   ]
  },
  {
   "cell_type": "code",
   "execution_count": 0,
   "metadata": {
    "application/vnd.databricks.v1+cell": {
     "cellMetadata": {
      "byteLimit": 2048000,
      "rowLimit": 10000
     },
     "inputWidgets": {},
     "nuid": "5ad38cc5-0881-4d42-8544-4a5a583b2751",
     "showTitle": false,
     "tableResultSettingsMap": {},
     "title": ""
    }
   },
   "outputs": [],
   "source": [
    "## from pyspark.sql import functions as F\n",
    "\n",
    "(df.select(\n",
    "      \"ativo\",\n",
    "      F.round(\"preco\", 2).alias(\"preco_usd\"),\n",
    "      \"moeda\",\n",
    "      \"horario_coleta\",\n",
    "      \"ingestion_ts_utc\"\n",
    "   )\n",
    "   .orderBy(F.col(\"ingestion_ts_utc\").desc())\n",
    "   .show(truncate=False, n=10, vertical=True))\n"
   ]
  },
  {
   "cell_type": "code",
   "execution_count": 0,
   "metadata": {
    "application/vnd.databricks.v1+cell": {
     "cellMetadata": {
      "byteLimit": 2048000,
      "rowLimit": 10000
     },
     "inputWidgets": {},
     "nuid": "b7baee63-9895-4951-a2d6-ce262d7a695b",
     "showTitle": false,
     "tableResultSettingsMap": {},
     "title": ""
    }
   },
   "outputs": [],
   "source": [
    "from pyspark.sql import functions as F\n",
    "\n",
    "# Caminhos 100% UC-safe\n",
    "RAW_BASE_PATH   = \"/Volumes/lakehouse/raw/raw_coinbase/coinbase/bitcoin_spot\"\n",
    "SCHEMA_LOCATION = \"/Volumes/lakehouse/raw/raw_coinbase/_schemas/bronze_bitcoin_spot\"\n",
    "CHECKPOINT_PATH = \"/Volumes/lakehouse/raw/raw_coinbase/_checkpoints/bronze_bitcoin_spot\"\n",
    "\n",
    "# Leitura incremental (Auto Loader)\n",
    "raw = (\n",
    "    spark.readStream\n",
    "        .format(\"cloudFiles\")\n",
    "        .option(\"cloudFiles.format\", \"json\")\n",
    "        .option(\"cloudFiles.schemaLocation\", SCHEMA_LOCATION)\n",
    "        .load(RAW_BASE_PATH)\n",
    ")\n",
    "\n",
    "# Bronze transformado\n",
    "bronze = (\n",
    "    raw.select(\n",
    "        F.col(\"ativo\").cast(\"string\"),\n",
    "        F.col(\"preco\").cast(\"double\"),\n",
    "        F.col(\"moeda\").cast(\"string\"),\n",
    "        F.col(\"horario_coleta\").cast(\"timestamp\"),\n",
    "        F.col(\"ingestion_ts_utc\").cast(\"timestamp\"),\n",
    "        F.col(\"source_system\").cast(\"string\"),\n",
    "        F.col(\"source_endpoint\").cast(\"string\"),\n",
    "        F.col(\"ingestion_date\").cast(\"date\")\n",
    "    )\n",
    "    .withColumn(\"ingested_at\", F.current_timestamp())\n",
    ")\n",
    "\n",
    "# Escrita em tabela gerenciada (Unity Catalog)\n",
    "(\n",
    "  bronze.writeStream\n",
    "    .trigger(availableNow=True)  # <— processa tudo que existe e finaliza\n",
    "    .option(\"checkpointLocation\", CHECKPOINT_PATH)\n",
    "    .outputMode(\"append\")\n",
    "    .toTable(\"lakehouse.bronze.bronze_bitcoin_spot\")\n",
    ")"
   ]
  },
  {
   "cell_type": "code",
   "execution_count": 0,
   "metadata": {
    "application/vnd.databricks.v1+cell": {
     "cellMetadata": {
      "byteLimit": 2048000,
      "implicitDf": true,
      "rowLimit": 10000
     },
     "inputWidgets": {},
     "nuid": "7b61bdc7-b577-4d66-9187-8e3427f40472",
     "showTitle": false,
     "tableResultSettingsMap": {},
     "title": ""
    }
   },
   "outputs": [],
   "source": [
    "%sql\n",
    "SELECT * FROM lakehouse.bronze.bronze_bitcoin_spot"
   ]
  }
 ],
 "metadata": {
  "application/vnd.databricks.v1+notebook": {
   "computePreferences": {
    "hardware": {
     "accelerator": null,
     "gpuPoolId": null,
     "memory": null
    }
   },
   "dashboards": [],
   "environmentMetadata": {
    "base_environment": "",
    "environment_version": "4"
   },
   "inputWidgetPreferences": null,
   "language": "python",
   "notebookMetadata": {
    "mostRecentlyExecutedCommandWithImplicitDF": {
     "commandId": 7401279145623859,
     "dataframes": [
      "_sqldf"
     ]
    },
    "pythonIndentUnit": 4
   },
   "notebookName": "ingest_bitcoin_to_volume",
   "widgets": {}
  },
  "language_info": {
   "name": "python"
  }
 },
 "nbformat": 4,
 "nbformat_minor": 0
}
